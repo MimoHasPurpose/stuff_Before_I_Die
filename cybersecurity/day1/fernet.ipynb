{
 "cells": [
  {
   "cell_type": "code",
   "execution_count": 1,
   "id": "006a5144-4088-4336-9549-79721094fb65",
   "metadata": {},
   "outputs": [],
   "source": [
    "import cryptography"
   ]
  },
  {
   "cell_type": "code",
   "execution_count": 2,
   "id": "52442187-1439-45e4-b1f2-afe4d7899662",
   "metadata": {},
   "outputs": [],
   "source": [
    "from cryptography.fernet import Fernet"
   ]
  },
  {
   "cell_type": "code",
   "execution_count": 4,
   "id": "a919cde2-731f-46c5-98ba-866b22e43072",
   "metadata": {},
   "outputs": [],
   "source": [
    "key=Fernet.generate_key()\n",
    "f=Fernet(key)\n",
    "token=f.encrypt(b\"a\")\n"
   ]
  },
  {
   "cell_type": "code",
   "execution_count": 5,
   "id": "b915cc06-4404-4df8-90a8-d877998a2f22",
   "metadata": {},
   "outputs": [],
   "source": [
    "token=f.encrypt(b\"a\")"
   ]
  },
  {
   "cell_type": "code",
   "execution_count": 6,
   "id": "1d544f52-3047-4b10-8ba4-7fcc5f50f158",
   "metadata": {},
   "outputs": [
    {
     "data": {
      "text/plain": [
       "b'gAAAAABoLSUsdZXoCqb1pjltCz1fVVFBigJ1EbVRMIv235ZMjhcCa5NsdBFIVlmcSqf3uL4PuV-rBE7I-BAStRZQaUh5DP5wAg=='"
      ]
     },
     "execution_count": 6,
     "metadata": {},
     "output_type": "execute_result"
    }
   ],
   "source": [
    "token"
   ]
  },
  {
   "cell_type": "code",
   "execution_count": 7,
   "id": "7f773104-d8b4-42cd-a84d-b79dab0f2b6e",
   "metadata": {},
   "outputs": [
    {
     "data": {
      "text/plain": [
       "b'a'"
      ]
     },
     "execution_count": 7,
     "metadata": {},
     "output_type": "execute_result"
    }
   ],
   "source": [
    "f.decrypt(token)"
   ]
  },
  {
   "cell_type": "code",
   "execution_count": 15,
   "id": "50b3a9ec-a459-4ef4-95b3-c23d52f85263",
   "metadata": {},
   "outputs": [
    {
     "name": "stdout",
     "output_type": "stream",
     "text": [
      "b'gAAAAABoLSYiIy406gCMzrbMUetPQzDdTewSArKisYFyKmq3AcJf7662QxbzGhN8RL5r_nEDYf74JdDUQ_iTGk-nVw7F098RSw=='\n",
      "b'gAAAAABoLSYi47Cs2e3ABWFiCVoWdxGVUBZrwc-eyE9YGznGbbkhrsGadeSnYfzKKXE23fX6-bWHRwUoaUK-5yRHcpgl2ijYZw=='\n",
      "b'gAAAAABoLSYitj8ba6VtE1cuwg8ntu5slSlyHHvMUoS9I8DbYb4jKffOhLO3fKIk9KQYZ5QZfYRCiDa6vcrBhOZT7izb3Q9mCA=='\n",
      "b'gAAAAABoLSYiQulf36KuEjKdJA2espk52aYGOmwAver6SnPT61JnP6li0mcX1NT8xidpq227-t3NxwKSC2rwR2Tz9leA0VtmPw=='\n",
      "b'gAAAAABoLSYiQFsnHCCY-lSNmXPwIxj8JMhPcNav3pqiE-kfOrruZ5JXlgHSn3efKgTshb7iWXB8n1CXSH7C6vaiJWtVQ3-IdQ=='\n",
      "b'gAAAAABoLSYiu6SwjNWStCw9bqtQYeH3l-ZTDFydVhHr8MT7ajQUvKsAim-cJxHAxGDdxx-roP8GaW_6209HTatUyYsfYLVtJg=='\n",
      "b'gAAAAABoLSYiXxmD51vg3b6Fx3gG4jtWAwoIrtslSC2Imnozw3yuUegYLvyGSc7aUnSz5EKKg0Tjyd1LDgB3XYQg2le7GXIQRg=='\n",
      "b'gAAAAABoLSYiQduvXuyskUMaN8OSeiuh7v9Zn1hD6Q1d7kLrCNrcEhzL5KF-m66kms1-gy0-l_M6YPBkWalPb9g7-8ksyYT4BA=='\n",
      "b'gAAAAABoLSYigmLldTj4-9qIZyxNrt5yy3cayOvFNwbvAErEdRaTVnfg3XFFIRqCvpqF_d2aSCMHJFQYRseFVdfdixs153jJIw=='\n",
      "b'gAAAAABoLSYi6hrBj0C0ox3RHyFZeuun4tOkC8SCBA31yhgdma6sHaVT7GaAFFDwHnVoW_lhS1Lfce-nPYocyqIQXtd2KAEqzA=='\n",
      "b'gAAAAABoLSYi21eJuD1w81oBK5RQVexFtGGNR83WBpL4E_24pa4oiL5VyRkQ_F9len0Jfyqde4WGUIXMPqC7nPa_a9z-tH-8YQ=='\n",
      "b'gAAAAABoLSYiQcQdMqpcdak93CFB60gvF8F0Aags-9sFQAuNAdM8MSNs3qikYOv9INRdJY2BLGuajnkdo_Yi5cBpFYyiyAVjFg=='\n",
      "b'gAAAAABoLSYipD1ySJyU363jF6XcPlkdhozqjGtNDoscOeHaBxebtdodnyjo_0fJ75E36itTxVEuYgMzWfEWcec1N3Pmz6TaGg=='\n",
      "b'gAAAAABoLSYiwcj6-ExRDYw0Gf_2c_akpJCAw6ppqvsZvoQbCCF8tOk65RnAIvvmyt7GTKHl06Z_m6uucygRyvB-bl4eRFvQNQ=='\n",
      "b'gAAAAABoLSYiMCgKkid2YZmdKTqVFodELIt6yOMM70opJA9AUweDEaQxT2V08ufXQxtukWGimdfhAvWqVl5J4z6OrNi4vOYudw=='\n",
      "b'gAAAAABoLSYiacMf6duVx9NM7J5eiEYraRwk76SQeRDIdC0rT6PhedXWt_aUeCSbmXuf4evyPThFyD6CGNw5bfnyW25HX9w8Vw=='\n",
      "b'gAAAAABoLSYiwU6mrHGtiSGRBPURTTip464CLcf9va2Oh9juZcUHZA5PhliqoX7lsfrEROzx1Alihg6NAXnnKnzBFnLlVbG_zQ=='\n",
      "b'gAAAAABoLSYi8heYFLKvKum01ARxyZUc7H7V_HlHi2aZl2pmjIPNhLTwPfrj85fNGlOTwaBWHqn6lxKkBYBx-KkNbVBu8yX-tg=='\n",
      "b'gAAAAABoLSYiJNhNQgk6y29ilFKvjELRVaRVh8VSJKPnnid4dYFY72Cy2GMMF01wrEARrPDQmpaEig-ZXFAg4vXcGTXo3m6j3A=='\n",
      "b'gAAAAABoLSYiZR7yQYiZXL_imlMfArybdIE7kjYH5jJ2pkHZJBcvStV-9OE0FdZ2Whns4DNzf6SX4IEncQeO82oJOkpWUngQoQ=='\n",
      "b'gAAAAABoLSYiwrENN0iMVezh1uwQNvpz0qiC1ZhzexHT1yssI4PKNr3PQzjYBenF0QzThF90UWJzCojOq5IbJIb1sXLVhg3J0g=='\n",
      "b'gAAAAABoLSYikHShva1Y38MB1envOGDf188Ly7g9kQ65pnwCv1JNuKmslUBPLBB4FgJFdsMrc9Oi0CGGoddgLzu8JDozknIfKw=='\n",
      "b'gAAAAABoLSYi1RMqiEKBfSyNx_TcBe-9arLKUSrD-44qhyaeDEdrTXmFhe-AzDbV7cC5fFyIpwCqlGeZ56VVP5ZmG2wdFhX0iA=='\n",
      "b'gAAAAABoLSYidGt-FHq5gqnRDSiEpPSlot8d4KswwB_VORQS-horYcp_wYIMIqoY0ihox7pvRT6OeERQCIOWTgZzAQFx8CC7IA=='\n",
      "b'gAAAAABoLSYiNjrB1WKF1dcuwl9tFSNt4M9hrJQPtqA3QXQk3L1TzuGXd1chI0RtyhehOXqajv19a2afpRIV3IWdqKqeS7e3mw=='\n",
      "b'gAAAAABoLSYiOKHacUq3rGON2ONkm2hVxxuwfMpsqvmou_d-hw9FA1PUJrYQEZqLaCUHsFFtzn5yrkwTuAWFxnsRjD5QOeXanA=='\n",
      "b'gAAAAABoLSYiD24-KG6JxWLDwntTHmxtWDhSvRfElerYOJCGI8cfBz1Ec1GN3AvcnL4EmFaeAUuBMND-I210fO7RGwmJJ0d7qQ=='\n",
      "b'gAAAAABoLSYiC5hHUfVu1kCz9q_WvYRXXlTx4R2dwQXW4cdefMIcBnmlUByQyEdtgy0IKwcH0JLKPRl2otBD1FX0m5W3XMbL0g=='\n",
      "b'gAAAAABoLSYiOVtJDmKBobAwoVEuSr_mEVw8xbdJtmPRXRSCT0umaHb9A_2NS7LIfAaKrnzc6jjSjRZLJ7q3kK66XB9bsD7y2Q=='\n",
      "b'gAAAAABoLSYiEeuzbX9p2OWBoll10I2I0lVKK2A7MY3UOdq8h_Aba86JZafMoEn0KaCbMxyMTkBYQIg4_DIYZeWrernnin4vdA=='\n",
      "b'gAAAAABoLSYiHQG8-Ui2XIfipltnpt8LxhTh2PmBP5XeNVyRXXAakzmjclCWz1OEnSSY8UucMHmcWBhEubFB39Mb5sQ07zjqEQ=='\n",
      "b'gAAAAABoLSYiqb-a9JLZbVVnhqext_kr0Ru_Gh9Lkb8s4wIpLHdp4Eq0HNPH2MH8dzIIJ1UloaWa8JWhSArcbf4uzIe9ly-nmw=='\n",
      "b'gAAAAABoLSYioelYqFeLIkLrSM7sPu5BqeGBvbxX7RA08G7FdXsjKPP_H-GOWpfMFD-AMDfT9uOzsXnV-BwqvN1ZZGfZ2247jw=='\n",
      "b'gAAAAABoLSYirC-60p4DICU3AGp9BY49nT72gaQCu8JV8NuHAfuffa8bl-AsBrCaSkfa3yNHvuskQl-YiHSX_kdp_JNOrzUK7g=='\n",
      "b'gAAAAABoLSYiykU9NxmIFh7xtvSl71T70_zvrrB3OskhqZjDy8j-hU7Uj9BRFFqe6jwIh-JG6ZfA25J8jg_VULKZXenyIUM7dQ=='\n",
      "b'gAAAAABoLSYiSuO5dcb9vZMTpW3vlAYwTrdDr2qRCZgRqYLU2lMbOz9tSVkt3us_IbCWDA42To6FoTKbtxZGer-4SM8xMQn_RA=='\n",
      "b'gAAAAABoLSYi3sCIXzpfJ1ypCe1ZfHH7d2OtsPcNga-vwD_R1eGQos-LtoY7sTrWbgRsXvI0w2q2gZpWPJY3bawi2UnHTwwtLw=='\n",
      "b'gAAAAABoLSYiaMvjA_rzjRv-ix-ructduFp3wG74UnbB96zA4DQjT2nwKSREcV2npWiXNxa71D-kOHEN3_Yp8Uqweyk1XJYsvQ=='\n",
      "b'gAAAAABoLSYivRxThGGmEaAaOhhUnoB4PULTdNqmxLZY4m81nTLrsAAL0lz0rudYZi6LmciSGvToSWUxbT0uhmJLNXWCXAbKTA=='\n",
      "b'gAAAAABoLSYiHJSTe63-xW4kWrtuzXBcnC5OW0JeZw-6kCRbLSEQkeW8MW8gdjdged54IoLZVnKKJdBPnUZFb3-N1F7sFlt3TA=='\n",
      "b'gAAAAABoLSYi7PqXJVyvhDgi3L0ykJRt7QbL_GOMNKQvYL_Id4WMSS2BfWL84FAl97MPx8x3iUCAAC_tFpX7CXmqLuNtRjt9HA=='\n",
      "b'gAAAAABoLSYiCLKaZpLRcKXRVu4EsbJAkd7dRRE3Qijfy6DF3pHOrHisZjHRHpjm_BvBLCrw9TIw1Uy3C0EEfkgkrZbjLvEPTA=='\n",
      "b'gAAAAABoLSYipXpJ_vesVx0YgUCZMizUjHo_sUvb_6E1vCiGnOS8P1NbyvBaih86pCE16YXuZToCzVRySEibxhUymhvRXAJ1Fg=='\n",
      "b'gAAAAABoLSYiprPdx3v6L-lALbFIPdXvOu6O1OL5DgaaWnGpC80EoNk5EfaACckayHUadCHxuWqnp9QIWrbUUhX7Q4vOpDg1Vw=='\n",
      "b'gAAAAABoLSYi4zCzBCMHD0V1jRBPCyfLhw06Wsd7NDRwuzdqCEo73GPPy2QEb9ZsrO-Fqy2nM2FcF7CFlT5yqNo17e7-p83seg=='\n",
      "b'gAAAAABoLSYijWZt850KqkmSO4JRaHcGj6zTavl9-hGCo7ZgwWWzHEnC4O3MreyakHdYq1C1NY8jAnrRPse9grSeo9ZLdzxyDQ=='\n",
      "b'gAAAAABoLSYiRH1JlWpv3q5N_4oZ_GRjFs8ur4kw9X8GE71G-dIUnl2H9YD2pfwteHz0vUFzUJwuk9DA6dtVcTTpaB2f5bx4fg=='\n",
      "b'gAAAAABoLSYiLv3fHDJEMVZ7Nme8-PLj0VFFfogQAZr_1epxmFFjKHlh5ROgkBjjcsRWVxbAMruR-aA7SeoI8_J2Gb_-vbPcpQ=='\n",
      "b'gAAAAABoLSYiittOuvgloZuL-txusG7tVXmJj-XHOI9UPBeWG4yBqaB5DhyF1PO0l0AQfRvFC_7pQsbpFzyjAt-OO_xcKs2zQw=='\n",
      "b'gAAAAABoLSYiTUQV-g8XRNLSz7t151rewfS2xCeTklO1i8Q2rMKO5oMVLq1AQEDse-ly4eqY6h7WWCUbR-Gl--vqrucriOYXrA=='\n",
      "b'gAAAAABoLSYiKAA6kSF7UpAUKKcTr3h7rlgm1ZQe1wu9-ce3HL26mkBQJfMUKkK1ZTwi9wlpW-fOYrrXyuEH9k0g1Y1y16cACw=='\n",
      "b'gAAAAABoLSYi6z3qd7CKBi2pCIaqpkhgsXHIRKicF8QRIii1NbE9JN-PFhjhkluN6EYz1MbIim9QjkD5VH2FEd0THWViupiwNg=='\n",
      "b'gAAAAABoLSYi9DLhI6oyWNPcampykbkbTDpmPtrn2sn2aDyy7s3lecnF9juDa83qIHzqrBkO31aN7sNPjEJGR_SgzaekTPeu9w=='\n",
      "b'gAAAAABoLSYiIKSUy8qRX_66xJ4RTzuULsNm4otdHP5iZcJuT98DZQH88XsA7nblnjFCH8KTDgt3aiB1jL_twNPajD2xH40L1Q=='\n",
      "b'gAAAAABoLSYiwGSubYpeefK4ZK3wczb3MyVZQKuvkKfpeNRWPWv2pmk9QPzwO2gHa32OQjhb6SsyddGjHPskL4bJLHTHwQ7ekQ=='\n",
      "b'gAAAAABoLSYiZAkzKmWXbsf_auja24FoUNdkxHpz-fd08PlLSQdKrDrcybEmc6K3JMNlp8QHuMzTV-RX7Y552xCJfn2LzNU7Iw=='\n",
      "b'gAAAAABoLSYiU_2Z73Rx7nfxrxXhUwTG3ybY5WODrcbtv1woE06LOxyWGUGM4XJBE67WB3YRTVG9bMu_yf9oRf7XTUZuOB58sQ=='\n",
      "b'gAAAAABoLSYif07yDuqO-cnQV-CGLx1ysxedZDEfSxu1r2JLHmjhBsrRL3lADkAYOl_UpXY88-VIEHhdyYByyZJCV0GI3ExidA=='\n",
      "b'gAAAAABoLSYi6jks1ZHgN6FQmHrmcMT3Tzy2zXluMxHUvd_rqm7VoVInCieC6uwOaCpP1iMMMM_hZVtt2e-CfRO_G2D7R6_TPQ=='\n",
      "b'gAAAAABoLSYiv3NImXjB22nju5C6I7Q2cuuMCKAoYqqjtKaqJMEc-fpT8J3EvTjG3ka-UFAirbmqU4wpiTQXffycTCzM7efbUQ=='\n",
      "b'gAAAAABoLSYieH_ZtMsIGmCfTSYItTcuCLzlu6RoRZzlHXJ0zJwV2Uw6QzICvCDvJdnvsxjYLf06gpYIrhHwKxH7U54Q97UqFw=='\n",
      "b'gAAAAABoLSYi7yxVAu6tPgdhBUkBDyqZuLHfFZWY_Ct_pD7Uyn9nkpTOfevwZB4tR6GDkXlG0iALuU3M0uxQ2AMxcxJJ7GzNig=='\n",
      "b'gAAAAABoLSYiriua4GQS4X5VS49Lh1SD5VBv4V0eVSa7EBzVR8hCMDDiK1KmJg72JDPZaQuAGlUdWFABwwQFq2ZnRklr2IZC0w=='\n",
      "b'gAAAAABoLSYiTVrrAZxPVtPUY0Vr9M1-0MySfuWFurvmo2c2mpEtLuEjYhhpUDgBdcbI6_jfkYP83L_djv9c0gykaKvXJS_mjQ=='\n",
      "b'gAAAAABoLSYikADK08SNBJenZpVZlqlUEca4HDFHAu5Q7euNLGj-gImhMoTL8o8Y6vZQWZEwi4LKHxHsmjn9CCT8irmIbOUFjQ=='\n",
      "b'gAAAAABoLSYiZWr6T3Kp9JyedhVwbdKwFRy8bCGDsOIRu-4ckBqxs_41FVo4Rh53Nbhl4Fs7ZLcCvRUpVPD34y3t8Sj21ieBWw=='\n",
      "b'gAAAAABoLSYijxjRtrdrLUN21RAXcbLy7HUdr0Y_4wlH0US6psg9nZGfnnOMYqH7JMVr6TCryac0dSU8cif8yjKZx9_0c9ZaqQ=='\n",
      "b'gAAAAABoLSYiycrTwd2v0jcwW9XCvCfb1U6men6_fBziesrLpFcEIJSHmxKSFJQ8qpOSsJvbf_owYbHQG48Aicku5YgCc3Swdg=='\n",
      "b'gAAAAABoLSYisXCdvYzNqY5VCIPOYAf9SIe890QOyLt-jJVr3kFhXZijoeatJn35UYDct9cCtfYMNXQt2bV6k8bRg54OzHJ6zA=='\n",
      "b'gAAAAABoLSYiBMIRQvrlJmHZO_dupZ7Vrh7QCGa2VBxtYruwq5lFrx8PkUqRxGjIH1rEM41-3-vVMmUv8ao6fyo4Y6_gPzu_0A=='\n",
      "b'gAAAAABoLSYiyHxE_cx9Kn5HToS5SAllfUmVuI1stLY7pxbM2z9Ykn6rax7GX99QImHXZRVxerd9zy1vpcppJAm0XRPN-nOguw=='\n",
      "b'gAAAAABoLSYi_4Q5kiueLsEh9cQYEyv5b65QQV77v-UcCqGMMD1ROj66QZrLbZrK08q9i-iPIisUzKW6HXgnfPyI9xXGO-wOkg=='\n",
      "b'gAAAAABoLSYi6_nz9iSjanLMY7RIl--pOxnfxyVZuunNI5QDMvio2-iYhzOq9D412sRIu7Foguqq6jAqvouMLzWEIz3Y-2xSVw=='\n",
      "b'gAAAAABoLSYitZe6PJ4-VeRRg2fKTf_JW4k9cEBnqDqoK2En9k-GIwYnaJmLPpsBOxUupsANECIR9UBKl96O1MK0VBnFrKTFWw=='\n",
      "b'gAAAAABoLSYiYjH1bnoY5vOE3e7bHu4NlTGSv_SfeJj8fmKa1A8rcxyKu_bOsNeYVaXUeha3YdlQjXbP6_brMiiK7b3JdLnC2A=='\n",
      "b'gAAAAABoLSYiP10gcF8PG9iWj2LfggqKdINR5FbT4I9xwupmwiFUu4whF0DU0epIHK1Y6isEyK1g_HEFEGSH11X4AxzWh3gsaA=='\n",
      "b'gAAAAABoLSYiD26T7E6ovGfjBXaQZIjz7LDtKoVA61sXJLNdp1epFO9Rgdfn_Ot0jTPw4xRIp3v53wuZh_kEyX1pI8bDjh-lGw=='\n",
      "b'gAAAAABoLSYiMbAi3N0I-kPsiLLxUGBDWLxuJjIAU5dybt4j6iDyjNx0VEmGwi4viVWeF78MC8l2ORWuXWcDW0mlXZ5WSt8k5g=='\n",
      "b'gAAAAABoLSYiD5h_CWDbfvb9vePXBvBf0gKvLHin4YpAxHF9MUQyiD-8mokHvPuImdguzIAFJn1kSpgkvxwXi9h9j2ZMvHmQYQ=='\n",
      "b'gAAAAABoLSYijHysDYFVmYZ_NjOrRiGGXcuGTSL_i77H7gp15WJ2g-GoStkJFKqSwQ5kMNn7s2F235qcJV64yy9CcDuYp3XTSA=='\n",
      "b'gAAAAABoLSYisUKQvfDs-irgmSI0J8YDeL4tgqRHF7pNkmvD8gqRIO24Mf79j_KYKG6l51dxTYZgsbumUJer3QT-Uf349aQ_Vg=='\n",
      "b'gAAAAABoLSYi4nX_UEZdGzsPf-cGCUwzqZCEWL33u_erHqzXLDN-pKDvzFcQhz1PBhIf2LOWaZTW8BXYXxWMoNeu38orKGhgFA=='\n",
      "b'gAAAAABoLSYiGn7wqXrImE59mGnqHX1bHU43Gfxf5b8YfPmb3sgykuIQ1QQexYjS09sKSANe1e2f8uqZeBuMGvXnYg4kMWYkFg=='\n",
      "b'gAAAAABoLSYivNep1Qqj5Y7gS8srhUYb3BjTK-OUlIePUIkNUGp6dPr7AFegVuVCLkHfTcnY2fKm2UW_iM9YBtO7ysO6aUuuRQ=='\n",
      "b'gAAAAABoLSYitOe0gOI2-tZLKnEGE80cKSvePaJWvyhVKUF4jqtJH6SM6D7GuR2-bSX_HEk8VgEH9uq4jUlI6845DFUmPBrKtw=='\n",
      "b'gAAAAABoLSYizV3MB2jzg5xqR8T3_WYrYCVQkvBByWx4vzdc30i1Jr9NMHPRlKf2N-Y2Wr8DdCpkQ78MI0eSt2YNcVDT-EtL-Q=='\n",
      "b'gAAAAABoLSYiuM6kmRrwiCw36uSMlP38b-fvb401_DvrmoF-D_rMgckQuSEfOPbpwCDjRtZ3RC3FoJLsZ4RuypmANZ9GWjckQQ=='\n",
      "b'gAAAAABoLSYiVGclrHJ4HEIe-r7CMCzBuC8lW6RRpVFxv1FnjP0rnT_s1X1UQRqA-jrv7RJy7Un5xVuuBHWVk4ybY1pZyWpL5Q=='\n",
      "b'gAAAAABoLSYilPS7jTCViSU3Uv2DYSP-yy9OsSzP80RLsG0UdpNvbVkjG2bXakBNBUM7IJh0wEz_q8cQ2rqT0ZCmREXbjkGbIw=='\n",
      "b'gAAAAABoLSYiAaTn7zAVzW02Cv9VisUxiSf3SjPfWfWnkyIH1UCotKXr9CB7fXIv0aycqHUFew0B3ORQfa6Td21pDuG5RjHZCQ=='\n",
      "b'gAAAAABoLSYihpBucnjb8iSl0SGUy3UbKuzuqdv-yVdW15yXgpfj1y_9AiqJI7mQShJD6KjWNoa4LHZ4xdL9KmAj83qifY-HKw=='\n",
      "b'gAAAAABoLSYioqx7P3vahtijuVVpuQUc7LUfCaH2NanF4PRSFayNg2oJrmGcdlCZo17OWCZo9vgWdmbI0arjUOvosD-dA9GzlA=='\n",
      "b'gAAAAABoLSYiH5qKwmxJa2-clfMHYRzOkNpQCAXMIHclWL0idufP-FM1klkF0A_x0gXCRsgEgQJQsokG6LDS_fVRVkcMV_fC2g=='\n",
      "b'gAAAAABoLSYijbcJyBBz8fY4D0b6zZYxKN8NthsH1mPlhm0NfGdvESX40SA2qePIkrRLaUpYNEszwStdcJPmavLc6kORf-cvjw=='\n",
      "b'gAAAAABoLSYiPkH3-olXwUJMpsu6ALBii45t9w8wH1xAsdqBSo--RmGff8FW8aTNx-ffEmQm4TglcURjYCOQLyk6wx7cBBefvw=='\n",
      "b'gAAAAABoLSYiePEmSaqHVbax0KuFdrsnHHJ6GqBnWU_QX5OEsgTMDJ-UnbJG34Do0RRmS4r4JOgSMfXpQWpU1nEns0Jr5A8OuA=='\n",
      "b'gAAAAABoLSYiKJDMStsVJ6LqMF1gx_LZ3qHzdOcqU7924Wf4jzFiQmoXY1N6TV03i_CB1EhUL0NVvgB8zasaha-fQLQ33l2aBg=='\n",
      "b'gAAAAABoLSYiovDV4GOuWbua5Z-haZUXMiX6hqf-8O6FJosKaCZyRkU4UUY-Kirsc6id_MlCK6bX8bU1v2iUi-aw5jC5NeDRJw=='\n",
      "b'gAAAAABoLSYi68hwdz8q8tgh_MihGBCawT2YaUnzfbkPVFshmSWQ099rxdddhH9pYAemYhUn9ukx_3a3ueTycGYHKYiYuZeGXg=='\n"
     ]
    }
   ],
   "source": [
    "for i in range(1,100):\n",
    "    token=f.encrypt(b\"{i}\")\n",
    "    print(token)"
   ]
  },
  {
   "cell_type": "code",
   "execution_count": null,
   "id": "ef69f75f-a1f3-441c-b46a-a47c11e4bde9",
   "metadata": {},
   "outputs": [],
   "source": []
  }
 ],
 "metadata": {
  "kernelspec": {
   "display_name": "Python 3 (ipykernel)",
   "language": "python",
   "name": "python3"
  },
  "language_info": {
   "codemirror_mode": {
    "name": "ipython",
    "version": 3
   },
   "file_extension": ".py",
   "mimetype": "text/x-python",
   "name": "python",
   "nbconvert_exporter": "python",
   "pygments_lexer": "ipython3",
   "version": "3.12.3"
  }
 },
 "nbformat": 4,
 "nbformat_minor": 5
}
